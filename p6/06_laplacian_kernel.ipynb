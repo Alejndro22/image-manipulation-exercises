{
 "cells": [
  {
   "cell_type": "markdown",
   "metadata": {},
   "source": [
    "## **Detección de bordes con Kernel Laplaciano**\n",
    "---"
   ]
  },
  {
   "cell_type": "markdown",
   "metadata": {},
   "source": [
    "La detección de bordes con Laplaciano es una técnica de procesamiento de imágenes que se utiliza para resaltar zonas donde la intensidad de la imagen cambia bruscamente, lo que generalmente indica la presencia de bordes. A diferencia de métodos como Sobel y Canny, que se basan en gradientes direccionales, el Laplaciano utiliza la segunda derivada de la intensidad de la imagen para encontrar los bordes."
   ]
  },
  {
   "cell_type": "markdown",
   "metadata": {},
   "source": [
    "El operador Laplaciano detecta bordes calculando la segunda derivada de la intensidad de la imagen. Esto significa que se enfoca en los cambios más pronunciados en la imagen. Matemáticamente, la segunda derivada de una imagen f(x,y)f(x,y) se puede representar como:"
   ]
  },
  {
   "cell_type": "markdown",
   "metadata": {},
   "source": [
    "![Laplaciano](https://lh7-us.googleusercontent.com/docsz/AD_4nXeV_YF02cSvM5Xrx5Q-MTv0XJtrUaRM8l8XU03RARP5Hdx001dD6Xemqm9-KkHhTbkAaXcAOdF9tAiAo_x0ZCw8xiSVhuNTxSAXswLWlQkWZAAq_vRSeCePGdc_JWDqUgRPt-aFvVk-bvSDGvTqBOjiPPYr5NRBwkZog1maOVTBWHj0s56P1lg?key=_zOgKB67hShNQ0Rwg2k-Gg)\n"
   ]
  },
  {
   "cell_type": "markdown",
   "metadata": {},
   "source": [
    "Para llevar esto a la práctica, se utiliza una convolución con un kernel Laplaciano. Algunos de los kernels más comunes de 3x3 para el operador Laplaciano son:"
   ]
  },
  {
   "cell_type": "markdown",
   "metadata": {},
   "source": [
    "![Laplaciano](https://lh7-us.googleusercontent.com/docsz/AD_4nXdBMY16z6gEkIRljSLkC9ZJlG9r5I_epD-1EbCe6kRvyz7tjthbwGPKDWh8TkDFxCsyxFR9OwxOjLszDLcO_D4Aj1Y6DnvDQ6PznEYkjuU5_hcobJGC1ypIVp0ZVSUb31FmrJsz_CHdbrprU0rJYUPG7FXQk5TqIP85rwwNmHepUYhGs_pQUQ?key=_zOgKB67hShNQ0Rwg2k-Gg)\n"
   ]
  },
  {
   "cell_type": "markdown",
   "metadata": {},
   "source": [
    "### **Imagen de ejemplo de su funcionamiento**\n",
    "---"
   ]
  },
  {
   "cell_type": "markdown",
   "metadata": {},
   "source": [
    "![Laplaciano](https://lh7-us.googleusercontent.com/docsz/AD_4nXe9ibMYNb_laXp9i0KeCfSJaAfdfvviWqrZB_SaU8vUitrlwaHN6_2j2zH4SVlOqpLJM5U-iGFeiNbjFfFnXYUi37l4rgAVjPkoo8hDdQwkzFNdkexD6G7ScpFuoqO-bkvcqJJRnWxtORnb7xWgA9XhRmGwUkOknL-vss_vEBXGLDvghnWxSXw?key=_zOgKB67hShNQ0Rwg2k-Gg)\n"
   ]
  },
  {
   "cell_type": "markdown",
   "metadata": {},
   "source": [
    "**Referencias:**\n",
    "\n",
    "https://blog.roboflow.com/edge-detection/"
   ]
  }
 ],
 "metadata": {
  "kernelspec": {
   "display_name": "ges-py-env",
   "language": "python",
   "name": "python3"
  },
  "language_info": {
   "codemirror_mode": {
    "name": "ipython",
    "version": 3
   },
   "file_extension": ".py",
   "mimetype": "text/x-python",
   "name": "python",
   "nbconvert_exporter": "python",
   "pygments_lexer": "ipython3",
   "version": "3.12.0"
  }
 },
 "nbformat": 4,
 "nbformat_minor": 2
}
